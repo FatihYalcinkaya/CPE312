{
 "cells": [
  {
   "cell_type": "code",
   "execution_count": 1,
   "id": "b0f820d7",
   "metadata": {},
   "outputs": [],
   "source": [
    "import pandas as pd\n",
    "import numpy as np\n",
    "from sklearn.model_selection import train_test_split"
   ]
  },
  {
   "cell_type": "code",
   "execution_count": 2,
   "id": "6c2649de",
   "metadata": {},
   "outputs": [],
   "source": [
    "def sigmoid(z):\n",
    "    return 1 / (1 + np.exp(-z))"
   ]
  },
  {
   "cell_type": "code",
   "execution_count": 3,
   "id": "93f6e05e",
   "metadata": {},
   "outputs": [],
   "source": [
    "def initialize_weights_and_bias(dimension):\n",
    "    w = np.random.randn(dimension, 1) * 0.01\n",
    "    b = 0.0\n",
    "    return w, b\n"
   ]
  },
  {
   "cell_type": "code",
   "execution_count": 4,
   "id": "d66b374a",
   "metadata": {},
   "outputs": [],
   "source": [
    "def forward_backward_propagation(w, b, x_train, y_train):\n",
    "    \n",
    "    z = np.dot(w.T, x_train) + b \n",
    "    y_head = sigmoid(z) \n",
    "    loss = -y_train * np.log(y_head) - (1 - y_train) * np.log(1 - y_head) \n",
    "    cost = (np.sum(loss)) / x_train.shape[1]   \n",
    "\n",
    "    \n",
    "    derivative_weight = np.dot(x_train, ((y_head - y_train).T)) / x_train.shape[1]  \n",
    "    derivative_bias = np.sum(y_head - y_train) / x_train.shape[1]              \n",
    "    gradients = {\"derivative_weight\": derivative_weight, \"derivative_bias\": derivative_bias}\n",
    "\n",
    "    return cost, gradients"
   ]
  },
  {
   "cell_type": "code",
   "execution_count": 5,
   "id": "5ef99811",
   "metadata": {},
   "outputs": [],
   "source": [
    "def update(w, b, x_train, y_train, learning_rate, number_of_iterations):\n",
    "    cost_list = []\n",
    "    for i in range(number_of_iterations): \n",
    "        cost, gradients = forward_backward_propagation(w, b, x_train, y_train) \n",
    "        cost_list.append(cost) \n",
    "        w = w - learning_rate * gradients[\"derivative_weight\"]  \n",
    "        b = b - learning_rate * gradients[\"derivative_bias\"]\n",
    "    return w, b, cost_list\n"
   ]
  },
  {
   "cell_type": "code",
   "execution_count": 6,
   "id": "2375eb24",
   "metadata": {},
   "outputs": [],
   "source": [
    "def predict(w, b, x_test):\n",
    "    z = sigmoid(np.dot(w.T, x_test) + b) \n",
    "    y_prediction = np.zeros((1, x_test.shape[1])) \n",
    "    \n",
    "    for i in range(z.shape[1]): \n",
    "        if z[0, i] <= 0.5: \n",
    "            y_prediction[0, i] = 0\n",
    "        else:\n",
    "            y_prediction[0, i] = 1\n",
    "                        \n",
    "    return y_prediction"
   ]
  },
  {
   "cell_type": "code",
   "execution_count": 7,
   "id": "7191b4d5",
   "metadata": {},
   "outputs": [],
   "source": [
    "def logistic_regression(x_train, y_train, x_test, y_test, learning_rate, num_iterations):\n",
    "\n",
    "    x_train = np.vstack((np.ones((1, x_train.shape[1])), x_train))\n",
    "    x_test = np.vstack((np.ones((1, x_test.shape[1])), x_test))\n",
    "    \n",
    "    dimension =  x_train.shape[0]  \n",
    "    w, b = initialize_weights_and_bias(dimension)\n",
    "\n",
    "    w, b, cost_list = update(w, b, x_train, y_train, learning_rate, num_iterations)\n",
    "\n",
    "    y_prediction_test = predict(w, b, x_test)\n",
    "   \n",
    "    print(\"Test accuracy: {} %\".format(100 - np.mean(np.abs(y_prediction_test - y_test)) * 100))\n"
   ]
  },
  {
   "cell_type": "code",
   "execution_count": 8,
   "id": "28f10fd7",
   "metadata": {},
   "outputs": [],
   "source": [
    "\n",
    "data = pd.read_csv(\"/home/fatih/Documents/okul/3.sınıf/machine learning/data.csv\")\n",
    "data.drop([\"Unnamed: 32\", \"id\"], axis=1, inplace=True)\n",
    "data.diagnosis = [1 if each == 'M' else 0 for each in data.diagnosis]"
   ]
  },
  {
   "cell_type": "code",
   "execution_count": 9,
   "id": "df750d17",
   "metadata": {},
   "outputs": [],
   "source": [
    "from sklearn.datasets import load_breast_cancer\n",
    "cancer = load_breast_cancer()\n",
    "data = pd.DataFrame(np.c_[cancer['data'], cancer['target']], columns= np.append(cancer['feature_names'], ['target']))\n",
    "\n"
   ]
  },
  {
   "cell_type": "code",
   "execution_count": 10,
   "id": "c3bb21a0",
   "metadata": {},
   "outputs": [],
   "source": [
    "\n",
    "import seaborn as sns\n",
    "iris = sns.load_dataset('iris')\n",
    "data = iris.copy()"
   ]
  },
  {
   "cell_type": "code",
   "execution_count": 16,
   "id": "126c0626",
   "metadata": {},
   "outputs": [],
   "source": [
    "np.random.seed(0)\n",
    "X, y = np.random.randn(100, 5), np.random.choice([0, 1], 100)\n",
    "data = pd.DataFrame(np.c_[X, y], columns=['feature_1', 'feature_2', 'feature_3', 'feature_4', 'feature_5', 'target'])\n"
   ]
  },
  {
   "cell_type": "code",
   "execution_count": 17,
   "id": "9e715483",
   "metadata": {},
   "outputs": [],
   "source": [
    "y = data.target.values\n",
    "x_data = data.drop([\"target\"], axis=1)"
   ]
  },
  {
   "cell_type": "code",
   "execution_count": 19,
   "id": "d794bd3d",
   "metadata": {},
   "outputs": [],
   "source": [
    "x = (x_data - np.min(x_data)) / (np.max(x_data) - np.min(x_data))\n",
    "\n",
    "\n",
    "x_train, x_test, y_train, y_test = train_test_split(x, y, test_size=0.20, random_state=42)"
   ]
  },
  {
   "cell_type": "code",
   "execution_count": 20,
   "id": "b1bf229d",
   "metadata": {},
   "outputs": [
    {
     "name": "stdout",
     "output_type": "stream",
     "text": [
      "Test accuracy: 60.0 %\n"
     ]
    }
   ],
   "source": [
    "x_train = x_train.T\n",
    "x_test = x_test.T\n",
    "y_train = y_train.reshape(1, -1)\n",
    "y_test = y_test.reshape(1, -1)\n",
    "\n",
    "\n",
    "logistic_regression(x_train, y_train, x_test, y_test, learning_rate=0.01, num_iterations=1000)\n"
   ]
  },
  {
   "cell_type": "code",
   "execution_count": null,
   "id": "b9d1099f",
   "metadata": {},
   "outputs": [],
   "source": []
  }
 ],
 "metadata": {
  "kernelspec": {
   "display_name": "Python 3 (ipykernel)",
   "language": "python",
   "name": "python3"
  },
  "language_info": {
   "codemirror_mode": {
    "name": "ipython",
    "version": 3
   },
   "file_extension": ".py",
   "mimetype": "text/x-python",
   "name": "python",
   "nbconvert_exporter": "python",
   "pygments_lexer": "ipython3",
   "version": "3.11.5"
  }
 },
 "nbformat": 4,
 "nbformat_minor": 5
}
