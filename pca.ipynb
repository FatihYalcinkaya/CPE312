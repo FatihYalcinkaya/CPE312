{
  "cells": [
    {
      "cell_type": "code",
      "execution_count": 10,
      "id": "696b7ef5-f25c-43a2-9b2b-54fb18904cf1",
      "metadata": {
        "id": "696b7ef5-f25c-43a2-9b2b-54fb18904cf1"
      },
      "outputs": [],
      "source": [
        "import pandas as pd\n",
        "import numpy as np\n",
        "import matplotlib.pyplot as plt\n",
        "%matplotlib inline\n",
        "import seaborn as sns"
      ]
    },
    {
      "cell_type": "code",
      "execution_count": 11,
      "id": "edc2b291-e547-4377-b38d-1633b4f5e4f3",
      "metadata": {
        "colab": {
          "base_uri": "https://localhost:8080/"
        },
        "id": "edc2b291-e547-4377-b38d-1633b4f5e4f3",
        "outputId": "e62efaa0-6cdb-4142-ebe6-cbf4297085e1"
      },
      "outputs": [
        {
          "output_type": "stream",
          "name": "stdout",
          "text": [
            "training data shape: (50000, 32, 32, 3)\n",
            "test data shape: (10000, 32, 32, 3)\n"
          ]
        }
      ],
      "source": [
        "from tensorflow.keras.datasets import cifar10\n",
        "(x_train,y_train),(x_test,y_test)=cifar10.load_data()\n",
        "print(\"training data :\",x_train.shape)\n",
        "print(\"test data :\",x_test.shape)\n"
      ]
    },
    {
      "cell_type": "code",
      "execution_count": 12,
      "id": "cca3e56c-30b2-47ea-88d1-111c8d3784f2",
      "metadata": {
        "colab": {
          "base_uri": "https://localhost:8080/"
        },
        "id": "cca3e56c-30b2-47ea-88d1-111c8d3784f2",
        "outputId": "07db5585-e6f5-4259-dcd6-88cf469e392f"
      },
      "outputs": [
        {
          "output_type": "stream",
          "name": "stdout",
          "text": [
            "total number of outputs: 10\n",
            "output classes: [0 1 2 3 4 5 6 7 8 9]\n"
          ]
        }
      ],
      "source": [
        "classes=np.unique(y_train)\n",
        "nClasses=len(classes)\n",
        "print('output number:',nClasses)\n",
        "print('output classes:',classes)"
      ]
    },
    {
      "cell_type": "code",
      "execution_count": 13,
      "id": "04bef49c-a305-4654-b94a-051abf9c04fa",
      "metadata": {
        "id": "04bef49c-a305-4654-b94a-051abf9c04fa"
      },
      "outputs": [],
      "source": [
        "label_dict={\n",
        "    0:'airplane',\n",
        "    1:'automobile',\n",
        "    2:'bird',\n",
        "    3:'cat',\n",
        "    4:'deer',\n",
        "    5:'dog',\n",
        "    6:'frog',\n",
        "    7:'horse',\n",
        "    8:'ship',\n",
        "    9:'truck'\n",
        "}"
      ]
    },
    {
      "cell_type": "code",
      "execution_count": 14,
      "id": "1bc0d5a5-ff1c-43c9-8a04-170d4a4fed10",
      "metadata": {
        "colab": {
          "base_uri": "https://localhost:8080/",
          "height": 295
        },
        "id": "1bc0d5a5-ff1c-43c9-8a04-170d4a4fed10",
        "outputId": "e049dd5f-3a69-41ea-a9e2-046803d484db"
      },
      "outputs": [
        {
          "output_type": "stream",
          "name": "stdout",
          "text": [
            "Text(0.5, 1.0, '(Label:frog)')\n",
            "Text(0.5, 1.0, '(Label:cat)')\n"
          ]
        },
        {
          "output_type": "display_data",
          "data": {
            "text/plain": [
              "<Figure size 500x500 with 2 Axes>"
            ],
            "image/png": "[encoded data removed]"
          },
          "metadata": {}
        }
      ],
      "source": [
        "plt.figure(figsize=[5,5])\n",
        "plt.subplot(121)\n",
        "curr_img=np.reshape(x_train[0],(32,32,3))\n",
        "plt.imshow(curr_img)\n",
        "print(plt.title(\"(Label:\" +str(label_dict[y_train[0][0]])+\")\"))\n",
        "\n",
        "plt.subplot(122)\n",
        "curr_img=np.reshape(x_test[0],(32,32,3))\n",
        "plt.imshow(curr_img)\n",
        "print(plt.title(\"(Label:\" +str(label_dict[y_test[0][0]])+\")\"))\n",
        "\n"
      ]
    },
    {
      "cell_type": "code",
      "execution_count": 15,
      "id": "f58f12a4-69d2-4816-a878-b253d3e970c5",
      "metadata": {
        "colab": {
          "base_uri": "https://localhost:8080/"
        },
        "id": "f58f12a4-69d2-4816-a878-b253d3e970c5",
        "outputId": "ef032b76-7e7e-4782-e5d1-a14241f53b36"
      },
      "outputs": [
        {
          "output_type": "execute_result",
          "data": {
            "text/plain": [
              "(0, 255)"
            ]
          },
          "metadata": {},
          "execution_count": 15
        }
      ],
      "source": [
        "np.min(x_train),np.max(x_train)"
      ]
    },
    {
      "cell_type": "code",
      "execution_count": 16,
      "id": "d288b862-9ddd-47ce-9772-c9b117bc2186",
      "metadata": {
        "id": "d288b862-9ddd-47ce-9772-c9b117bc2186"
      },
      "outputs": [],
      "source": [
        "x_train=x_train/255.0"
      ]
    },
    {
      "cell_type": "code",
      "execution_count": 17,
      "id": "319f2590-42fd-4c70-9d4a-e6f7b632893a",
      "metadata": {
        "colab": {
          "base_uri": "https://localhost:8080/"
        },
        "id": "319f2590-42fd-4c70-9d4a-e6f7b632893a",
        "outputId": "2d71a0b1-adbf-480a-f0ba-fd5e98b52652"
      },
      "outputs": [
        {
          "output_type": "execute_result",
          "data": {
            "text/plain": [
              "(0.0, 1.0)"
            ]
          },
          "metadata": {},
          "execution_count": 17
        }
      ],
      "source": [
        "np.min(x_train),np.max(x_train)"
      ]
    },
    {
      "cell_type": "code",
      "execution_count": 18,
      "id": "348f3698-0239-4b8c-a9ae-253d3e23d6ef",
      "metadata": {
        "colab": {
          "base_uri": "https://localhost:8080/"
        },
        "id": "348f3698-0239-4b8c-a9ae-253d3e23d6ef",
        "outputId": "0b350cd4-9f86-4190-c739-d6c2ba199753"
      },
      "outputs": [
        {
          "output_type": "stream",
          "name": "stdout",
          "text": [
            "size of dataframe:(50000, 3073)\n"
          ]
        }
      ],
      "source": [
        "x_train_flat=x_train.reshape(-1,3072)\n",
        "feat_cols=['pixel'+str(i) for i in range(x_train_flat.shape[1])]\n",
        "df_cifar=pd.DataFrame(x_train_flat,columns=feat_cols)\n",
        "df_cifar['label']=y_train\n",
        "print('size of dataframe:{}'.format(df_cifar.shape))"
      ]
    },
    {
      "cell_type": "code",
      "execution_count": 19,
      "id": "6c7bc6ba-9bf5-4295-86b5-f30bdd5d20b0",
      "metadata": {
        "colab": {
          "base_uri": "https://localhost:8080/",
          "height": 236
        },
        "id": "6c7bc6ba-9bf5-4295-86b5-f30bdd5d20b0",
        "outputId": "b09f2fb4-b6c8-483c-f141-e3e904774a7d"
      },
      "outputs": [
        {
          "output_type": "execute_result",
          "data": {
            "text/plain": [
              "     pixel0    pixel1    pixel2    pixel3    pixel4    pixel5    pixel6  \\\n",
              "0  0.231373  0.243137  0.247059  0.168627  0.180392  0.176471  0.196078   \n",
              "1  0.603922  0.694118  0.733333  0.494118  0.537255  0.533333  0.411765   \n",
              "2  1.000000  1.000000  1.000000  0.992157  0.992157  0.992157  0.992157   \n",
              "3  0.109804  0.098039  0.039216  0.145098  0.133333  0.074510  0.149020   \n",
              "4  0.666667  0.705882  0.776471  0.658824  0.698039  0.768627  0.694118   \n",
              "\n",
              "     pixel7    pixel8    pixel9  ...  pixel3063  pixel3064  pixel3065  \\\n",
              "0  0.188235  0.168627  0.266667  ...   0.847059   0.721569   0.549020   \n",
              "1  0.407843  0.372549  0.400000  ...   0.560784   0.521569   0.545098   \n",
              "2  0.992157  0.992157  0.992157  ...   0.305882   0.333333   0.325490   \n",
              "3  0.137255  0.078431  0.164706  ...   0.211765   0.184314   0.109804   \n",
              "4  0.725490  0.796078  0.717647  ...   0.294118   0.309804   0.321569   \n",
              "\n",
              "   pixel3066  pixel3067  pixel3068  pixel3069  pixel3070  pixel3071  label  \n",
              "0   0.592157   0.462745   0.329412   0.482353   0.360784   0.282353      6  \n",
              "1   0.560784   0.525490   0.556863   0.560784   0.521569   0.564706      9  \n",
              "2   0.309804   0.333333   0.325490   0.313725   0.337255   0.329412      9  \n",
              "3   0.247059   0.219608   0.145098   0.282353   0.254902   0.180392      4  \n",
              "4   0.278431   0.294118   0.305882   0.286275   0.301961   0.313725      1  \n",
              "\n",
              "[5 rows x 3073 columns]"
            ],
            "text/html": [
              "\n",
              "  <div id=\"df-e22c3412-c1e7-41e2-953a-3f2321be75f2\" class=\"colab-df-container\">\n",
              "    <div>\n",
              "<style scoped>\n",
              "    .dataframe tbody tr th:only-of-type {\n",
              "        vertical-align: middle;\n",
              "    }\n",
              "\n",
              "    .dataframe tbody tr th {\n",
              "        vertical-align: top;\n",
              "    }\n",
              "\n",
              "    .dataframe thead th {\n",
              "        text-align: right;\n",
              "    }\n",
              "</style>\n",
              "<table border=\"1\" class=\"dataframe\">\n",
              "  <thead>\n",
              "    <tr style=\"text-align: right;\">\n",
              "      <th></th>\n",
              "      <th>pixel0</th>\n",
              "      <th>pixel1</th>\n",
              "      <th>pixel2</th>\n",
              "      <th>pixel3</th>\n",
              "      <th>pixel4</th>\n",
              "      <th>pixel5</th>\n",
              "      <th>pixel6</th>\n",
              "      <th>pixel7</th>\n",
              "      <th>pixel8</th>\n",
              "      <th>pixel9</th>\n",
              "      <th>...</th>\n",
              "      <th>pixel3063</th>\n",
              "      <th>pixel3064</th>\n",
              "      <th>pixel3065</th>\n",
              "      <th>pixel3066</th>\n",
              "      <th>pixel3067</th>\n",
              "      <th>pixel3068</th>\n",
              "      <th>pixel3069</th>\n",
              "      <th>pixel3070</th>\n",
              "      <th>pixel3071</th>\n",
              "      <th>label</th>\n",
              "    </tr>\n",
              "  </thead>\n",
              "  <tbody>\n",
              "    <tr>\n",
              "      <th>0</th>\n",
              "      <td>0.231373</td>\n",
              "      <td>0.243137</td>\n",
              "      <td>0.247059</td>\n",
              "      <td>0.168627</td>\n",
              "      <td>0.180392</td>\n",
              "      <td>0.176471</td>\n",
              "      <td>0.196078</td>\n",
              "      <td>0.188235</td>\n",
              "      <td>0.168627</td>\n",
              "      <td>0.266667</td>\n",
              "      <td>...</td>\n",
              "      <td>0.847059</td>\n",
              "      <td>0.721569</td>\n",
              "      <td>0.549020</td>\n",
              "      <td>0.592157</td>\n",
              "      <td>0.462745</td>\n",
              "      <td>0.329412</td>\n",
              "      <td>0.482353</td>\n",
              "      <td>0.360784</td>\n",
              "      <td>0.282353</td>\n",
              "      <td>6</td>\n",
              "    </tr>\n",
              "    <tr>\n",
              "      <th>1</th>\n",
              "      <td>0.603922</td>\n",
              "      <td>0.694118</td>\n",
              "      <td>0.733333</td>\n",
              "      <td>0.494118</td>\n",
              "      <td>0.537255</td>\n",
              "      <td>0.533333</td>\n",
              "      <td>0.411765</td>\n",
              "      <td>0.407843</td>\n",
              "      <td>0.372549</td>\n",
              "      <td>0.400000</td>\n",
              "      <td>...</td>\n",
              "      <td>0.560784</td>\n",
              "      <td>0.521569</td>\n",
              "      <td>0.545098</td>\n",
              "      <td>0.560784</td>\n",
              "      <td>0.525490</td>\n",
              "      <td>0.556863</td>\n",
              "      <td>0.560784</td>\n",
              "      <td>0.521569</td>\n",
              "      <td>0.564706</td>\n",
              "      <td>9</td>\n",
              "    </tr>\n",
              "    <tr>\n",
              "      <th>2</th>\n",
              "      <td>1.000000</td>\n",
              "      <td>1.000000</td>\n",
              "      <td>1.000000</td>\n",
              "      <td>0.992157</td>\n",
              "      <td>0.992157</td>\n",
              "      <td>0.992157</td>\n",
              "      <td>0.992157</td>\n",
              "      <td>0.992157</td>\n",
              "      <td>0.992157</td>\n",
              "      <td>0.992157</td>\n",
              "      <td>...</td>\n",
              "      <td>0.305882</td>\n",
              "      <td>0.333333</td>\n",
              "      <td>0.325490</td>\n",
              "      <td>0.309804</td>\n",
              "      <td>0.333333</td>\n",
              "      <td>0.325490</td>\n",
              "      <td>0.313725</td>\n",
              "      <td>0.337255</td>\n",
              "      <td>0.329412</td>\n",
              "      <td>9</td>\n",
              "    </tr>\n",
              "    <tr>\n",
              "      <th>3</th>\n",
              "      <td>0.109804</td>\n",
              "      <td>0.098039</td>\n",
              "      <td>0.039216</td>\n",
              "      <td>0.145098</td>\n",
              "      <td>0.133333</td>\n",
              "      <td>0.074510</td>\n",
              "      <td>0.149020</td>\n",
              "      <td>0.137255</td>\n",
              "      <td>0.078431</td>\n",
              "      <td>0.164706</td>\n",
              "      <td>...</td>\n",
              "      <td>0.211765</td>\n",
              "      <td>0.184314</td>\n",
              "      <td>0.109804</td>\n",
              "      <td>0.247059</td>\n",
              "      <td>0.219608</td>\n",
              "      <td>0.145098</td>\n",
              "      <td>0.282353</td>\n",
              "      <td>0.254902</td>\n",
              "      <td>0.180392</td>\n",
              "      <td>4</td>\n",
              "    </tr>\n",
              "    <tr>\n",
              "      <th>4</th>\n",
              "      <td>0.666667</td>\n",
              "      <td>0.705882</td>\n",
              "      <td>0.776471</td>\n",
              "      <td>0.658824</td>\n",
              "      <td>0.698039</td>\n",
              "      <td>0.768627</td>\n",
              "      <td>0.694118</td>\n",
              "      <td>0.725490</td>\n",
              "      <td>0.796078</td>\n",
              "      <td>0.717647</td>\n",
              "      <td>...</td>\n",
              "      <td>0.294118</td>\n",
              "      <td>0.309804</td>\n",
              "      <td>0.321569</td>\n",
              "      <td>0.278431</td>\n",
              "      <td>0.294118</td>\n",
              "      <td>0.305882</td>\n",
              "      <td>0.286275</td>\n",
              "      <td>0.301961</td>\n",
              "      <td>0.313725</td>\n",
              "      <td>1</td>\n",
              "    </tr>\n",
              "  </tbody>\n",
              "</table>\n",
              "<p>5 rows × 3073 columns</p>\n",
              "</div>\n",
              "    <div class=\"colab-df-buttons\">\n",
              "\n",
              "  <div class=\"colab-df-container\">\n",
              "    <button class=\"colab-df-convert\" onclick=\"convertToInteractive('df-e22c3412-c1e7-41e2-953a-3f2321be75f2')\"\n",
              "            title=\"Convert this dataframe to an interactive table.\"\n",
              "            style=\"display:none;\">\n",
              "\n",
              "  <svg xmlns=\"http://www.w3.org/2000/svg\" height=\"24px\" viewBox=\"0 -960 960 960\">\n",
              "    <path d=\"M120-120v-720h720v720H120Zm60-500h600v-160H180v160Zm220 220h160v-160H400v160Zm0 220h160v-160H400v160ZM180-400h160v-160H180v160Zm440 0h160v-160H620v160ZM180-180h160v-160H180v160Zm440 0h160v-160H620v160Z\"/>\n",
              "  </svg>\n",
              "    </button>\n",
              "\n",
              "  <style>\n",
              "    .colab-df-container {\n",
              "      display:flex;\n",
              "      gap: 12px;\n",
              "    }\n",
              "\n",
              "    .colab-df-convert {\n",
              "      background-color: #E8F0FE;\n",
              "      border: none;\n",
              "      border-radius: 50%;\n",
              "      cursor: pointer;\n",
              "      display: none;\n",
              "      fill: #1967D2;\n",
              "      height: 32px;\n",
              "      padding: 0 0 0 0;\n",
              "      width: 32px;\n",
              "    }\n",
              "\n",
              "    .colab-df-convert:hover {\n",
              "      background-color: #E2EBFA;\n",
              "      box-shadow: 0px 1px 2px rgba(60, 64, 67, 0.3), 0px 1px 3px 1px rgba(60, 64, 67, 0.15);\n",
              "      fill: #174EA6;\n",
              "    }\n",
              "\n",
              "    .colab-df-buttons div {\n",
              "      margin-bottom: 4px;\n",
              "    }\n",
              "\n",
              "    [theme=dark] .colab-df-convert {\n",
              "      background-color: #3B4455;\n",
              "      fill: #D2E3FC;\n",
              "    }\n",
              "\n",
              "    [theme=dark] .colab-df-convert:hover {\n",
              "      background-color: #434B5C;\n",
              "      box-shadow: 0px 1px 3px 1px rgba(0, 0, 0, 0.15);\n",
              "      filter: drop-shadow(0px 1px 2px rgba(0, 0, 0, 0.3));\n",
              "      fill: #FFFFFF;\n",
              "    }\n",
              "  </style>\n",
              "\n",
              "    <script>\n",
              "      const buttonEl =\n",
              "        document.querySelector('#df-e22c3412-c1e7-41e2-953a-3f2321be75f2 button.colab-df-convert');\n",
              "      buttonEl.style.display =\n",
              "        google.colab.kernel.accessAllowed ? 'block' : 'none';\n",
              "\n",
              "      async function convertToInteractive(key) {\n",
              "        const element = document.querySelector('#df-e22c3412-c1e7-41e2-953a-3f2321be75f2');\n",
              "        const dataTable =\n",
              "          await google.colab.kernel.invokeFunction('convertToInteractive',\n",
              "                                                    [key], {});\n",
              "        if (!dataTable) return;\n",
              "\n",
              "        const docLinkHtml = 'Like what you see? Visit the ' +\n",
              "          '<a target=\"_blank\" href=https://colab.research.google.com/notebooks/data_table.ipynb>data table notebook</a>'\n",
              "          + ' to learn more about interactive tables.';\n",
              "        element.innerHTML = '';\n",
              "        dataTable['output_type'] = 'display_data';\n",
              "        await google.colab.output.renderOutput(dataTable, element);\n",
              "        const docLink = document.createElement('div');\n",
              "        docLink.innerHTML = docLinkHtml;\n",
              "        element.appendChild(docLink);\n",
              "      }\n",
              "    </script>\n",
              "  </div>\n",
              "\n",
              "\n",
              "<div id=\"df-99b2f392-afd7-4b84-a0e9-12b3d70c7621\">\n",
              "  <button class=\"colab-df-quickchart\" onclick=\"quickchart('df-99b2f392-afd7-4b84-a0e9-12b3d70c7621')\"\n",
              "            title=\"Suggest charts\"\n",
              "            style=\"display:none;\">\n",
              "\n",
              "<svg xmlns=\"http://www.w3.org/2000/svg\" height=\"24px\"viewBox=\"0 0 24 24\"\n",
              "     width=\"24px\">\n",
              "    <g>\n",
              "        <path d=\"M19 3H5c-1.1 0-2 .9-2 2v14c0 1.1.9 2 2 2h14c1.1 0 2-.9 2-2V5c0-1.1-.9-2-2-2zM9 17H7v-7h2v7zm4 0h-2V7h2v10zm4 0h-2v-4h2v4z\"/>\n",
              "    </g>\n",
              "</svg>\n",
              "  </button>\n",
              "\n",
              "<style>\n",
              "  .colab-df-quickchart {\n",
              "      --bg-color: #E8F0FE;\n",
              "      --fill-color: #1967D2;\n",
              "      --hover-bg-color: #E2EBFA;\n",
              "      --hover-fill-color: #174EA6;\n",
              "      --disabled-fill-color: #AAA;\n",
              "      --disabled-bg-color: #DDD;\n",
              "  }\n",
              "\n",
              "  [theme=dark] .colab-df-quickchart {\n",
              "      --bg-color: #3B4455;\n",
              "      --fill-color: #D2E3FC;\n",
              "      --hover-bg-color: #434B5C;\n",
              "      --hover-fill-color: #FFFFFF;\n",
              "      --disabled-bg-color: #3B4455;\n",
              "      --disabled-fill-color: #666;\n",
              "  }\n",
              "\n",
              "  .colab-df-quickchart {\n",
              "    background-color: var(--bg-color);\n",
              "    border: none;\n",
              "    border-radius: 50%;\n",
              "    cursor: pointer;\n",
              "    display: none;\n",
              "    fill: var(--fill-color);\n",
              "    height: 32px;\n",
              "    padding: 0;\n",
              "    width: 32px;\n",
              "  }\n",
              "\n",
              "  .colab-df-quickchart:hover {\n",
              "    background-color: var(--hover-bg-color);\n",
              "    box-shadow: 0 1px 2px rgba(60, 64, 67, 0.3), 0 1px 3px 1px rgba(60, 64, 67, 0.15);\n",
              "    fill: var(--button-hover-fill-color);\n",
              "  }\n",
              "\n",
              "  .colab-df-quickchart-complete:disabled,\n",
              "  .colab-df-quickchart-complete:disabled:hover {\n",
              "    background-color: var(--disabled-bg-color);\n",
              "    fill: var(--disabled-fill-color);\n",
              "    box-shadow: none;\n",
              "  }\n",
              "\n",
              "  .colab-df-spinner {\n",
              "    border: 2px solid var(--fill-color);\n",
              "    border-color: transparent;\n",
              "    border-bottom-color: var(--fill-color);\n",
              "    animation:\n",
              "      spin 1s steps(1) infinite;\n",
              "  }\n",
              "\n",
              "  @keyframes spin {\n",
              "    0% {\n",
              "      border-color: transparent;\n",
              "      border-bottom-color: var(--fill-color);\n",
              "      border-left-color: var(--fill-color);\n",
              "    }\n",
              "    20% {\n",
              "      border-color: transparent;\n",
              "      border-left-color: var(--fill-color);\n",
              "      border-top-color: var(--fill-color);\n",
              "    }\n",
              "    30% {\n",
              "      border-color: transparent;\n",
              "      border-left-color: var(--fill-color);\n",
              "      border-top-color: var(--fill-color);\n",
              "      border-right-color: var(--fill-color);\n",
              "    }\n",
              "    40% {\n",
              "      border-color: transparent;\n",
              "      border-right-color: var(--fill-color);\n",
              "      border-top-color: var(--fill-color);\n",
              "    }\n",
              "    60% {\n",
              "      border-color: transparent;\n",
              "      border-right-color: var(--fill-color);\n",
              "    }\n",
              "    80% {\n",
              "      border-color: transparent;\n",
              "      border-right-color: var(--fill-color);\n",
              "      border-bottom-color: var(--fill-color);\n",
              "    }\n",
              "    90% {\n",
              "      border-color: transparent;\n",
              "      border-bottom-color: var(--fill-color);\n",
              "    }\n",
              "  }\n",
              "</style>\n",
              "\n",
              "  <script>\n",
              "    async function quickchart(key) {\n",
              "      const quickchartButtonEl =\n",
              "        document.querySelector('#' + key + ' button');\n",
              "      quickchartButtonEl.disabled = true;  // To prevent multiple clicks.\n",
              "      quickchartButtonEl.classList.add('colab-df-spinner');\n",
              "      try {\n",
              "        const charts = await google.colab.kernel.invokeFunction(\n",
              "            'suggestCharts', [key], {});\n",
              "      } catch (error) {\n",
              "        console.error('Error during call to suggestCharts:', error);\n",
              "      }\n",
              "      quickchartButtonEl.classList.remove('colab-df-spinner');\n",
              "      quickchartButtonEl.classList.add('colab-df-quickchart-complete');\n",
              "    }\n",
              "    (() => {\n",
              "      let quickchartButtonEl =\n",
              "        document.querySelector('#df-99b2f392-afd7-4b84-a0e9-12b3d70c7621 button');\n",
              "      quickchartButtonEl.style.display =\n",
              "        google.colab.kernel.accessAllowed ? 'block' : 'none';\n",
              "    })();\n",
              "  </script>\n",
              "</div>\n",
              "\n",
              "    </div>\n",
              "  </div>\n"
            ],
            "application/vnd.google.colaboratory.intrinsic+json": {
              "type": "dataframe",
              "variable_name": "df_cifar"
            }
          },
          "metadata": {},
          "execution_count": 19
        }
      ],
      "source": [
        "df_cifar.head()"
      ]
    },
    {
      "cell_type": "code",
      "execution_count": 20,
      "id": "ef2220a1-888d-43fc-92c4-7006ef6b3027",
      "metadata": {
        "id": "ef2220a1-888d-43fc-92c4-7006ef6b3027"
      },
      "outputs": [],
      "source": [
        "from sklearn.decomposition import PCA\n",
        "pca_cifar=PCA(n_components=2)\n",
        "principalcomponent_cifar=pca_cifar.fit_transform(df_cifar.iloc[:,:-1])"
      ]
    },
    {
      "cell_type": "code",
      "execution_count": null,
      "id": "5d135f0b-9a6c-4770-91f8-e3913693b0ea",
      "metadata": {
        "id": "5d135f0b-9a6c-4770-91f8-e3913693b0ea"
      },
      "outputs": [],
      "source": [
        "principal_cifar_Df=pd.DataFrame(data=principalcomponent_cifar,columns=['principal component 1','principal component 2'])\n",
        "principal_cifar_Df['y']=y_train"
      ]
    },
    {
      "cell_type": "code",
      "execution_count": null,
      "id": "d4c73a46-4e39-49a4-a370-3c6de9eb0d31",
      "metadata": {
        "id": "d4c73a46-4e39-49a4-a370-3c6de9eb0d31"
      },
      "outputs": [],
      "source": [
        "principal_cifar_Df.head()"
      ]
    },
    {
      "cell_type": "code",
      "execution_count": null,
      "id": "39a7ae9a-db88-4608-9e9e-feefae5db05d",
      "metadata": {
        "id": "39a7ae9a-db88-4608-9e9e-feefae5db05d"
      },
      "outputs": [],
      "source": [
        "pca_cifar.explained_variance_ratio_"
      ]
    },
    {
      "cell_type": "code",
      "execution_count": 9,
      "id": "9eed0c6b-b249-4d6b-8d12-32d6f9a777c8",
      "metadata": {
        "colab": {
          "base_uri": "https://localhost:8080/",
          "height": 234
        },
        "id": "9eed0c6b-b249-4d6b-8d12-32d6f9a777c8",
        "outputId": "ce2dd221-90c6-4661-f026-a6a72eff261f"
      },
      "outputs": [
        {
          "output_type": "error",
          "ename": "NameError",
          "evalue": "name 'principal_cifar_Df' is not defined",
          "traceback": [
            "\u001b[0;31m---------------------------------------------------------------------------\u001b[0m",
            "\u001b[0;31mNameError\u001b[0m                                 Traceback (most recent call last)",
            "\u001b[0;32m<ipython-input-9-e6de24bc604e>\u001b[0m in \u001b[0;36m<cell line: 2>\u001b[0;34m()\u001b[0m\n\u001b[1;32m      4\u001b[0m     \u001b[0mhue\u001b[0m\u001b[0;34m=\u001b[0m\u001b[0;34m\"y\"\u001b[0m\u001b[0;34m,\u001b[0m\u001b[0;34m\u001b[0m\u001b[0;34m\u001b[0m\u001b[0m\n\u001b[1;32m      5\u001b[0m     \u001b[0mpalette\u001b[0m\u001b[0;34m=\u001b[0m\u001b[0msns\u001b[0m\u001b[0;34m.\u001b[0m\u001b[0mcolor_palette\u001b[0m\u001b[0;34m(\u001b[0m\u001b[0;34m\"hls\"\u001b[0m\u001b[0;34m,\u001b[0m\u001b[0;36m10\u001b[0m\u001b[0;34m)\u001b[0m\u001b[0;34m,\u001b[0m\u001b[0;34m\u001b[0m\u001b[0;34m\u001b[0m\u001b[0m\n\u001b[0;32m----> 6\u001b[0;31m     \u001b[0mdata\u001b[0m\u001b[0;34m=\u001b[0m\u001b[0mprincipal_cifar_Df\u001b[0m\u001b[0;34m,\u001b[0m\u001b[0;34m\u001b[0m\u001b[0;34m\u001b[0m\u001b[0m\n\u001b[0m\u001b[1;32m      7\u001b[0m     \u001b[0mlegend\u001b[0m\u001b[0;34m=\u001b[0m\u001b[0;34m\"full\"\u001b[0m\u001b[0;34m,\u001b[0m\u001b[0;34m\u001b[0m\u001b[0;34m\u001b[0m\u001b[0m\n\u001b[1;32m      8\u001b[0m     \u001b[0malpha\u001b[0m\u001b[0;34m=\u001b[0m\u001b[0;36m0.3\u001b[0m\u001b[0;34m\u001b[0m\u001b[0;34m\u001b[0m\u001b[0m\n",
            "\u001b[0;31mNameError\u001b[0m: name 'principal_cifar_Df' is not defined"
          ]
        },
        {
          "output_type": "display_data",
          "data": {
            "text/plain": [
              "<Figure size 1600x1000 with 0 Axes>"
            ]
          },
          "metadata": {}
        }
      ],
      "source": [
        "plt.figure(figsize=(16,10))\n",
        "sns.scatterplot(\n",
        "    x=\"principal component 1\",y=\"principal component 2\",\n",
        "    hue=\"y\",\n",
        "    palette=sns.color_palette(\"hls\",10),\n",
        "    data=principal_cifar_Df,\n",
        "    legend=\"full\",\n",
        "    alpha=0.3\n",
        ")"
      ]
    },
    {
      "cell_type": "code",
      "execution_count": null,
      "id": "a03bca30-c10b-4d7a-9de8-5b78b0323955",
      "metadata": {
        "id": "a03bca30-c10b-4d7a-9de8-5b78b0323955"
      },
      "outputs": [],
      "source": []
    }
  ],
  "metadata": {
    "kernelspec": {
      "display_name": "Python 3 (ipykernel)",
      "language": "python",
      "name": "python3"
    },
    "language_info": {
      "codemirror_mode": {
        "name": "ipython",
        "version": 3
      },
      "file_extension": ".py",
      "mimetype": "text/x-python",
      "name": "python",
      "nbconvert_exporter": "python",
      "pygments_lexer": "ipython3",
      "version": "3.11.8"
    },
    "colab": {
      "provenance": []
    }
  },
  "nbformat": 4,
  "nbformat_minor": 5
}