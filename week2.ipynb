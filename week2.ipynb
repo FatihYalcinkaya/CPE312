{
 "cells": [
  {
   "cell_type": "code",
   "execution_count": 2,
   "id": "48c6296a",
   "metadata": {},
   "outputs": [],
   "source": [
    "import numpy as np"
   ]
  },
  {
   "cell_type": "code",
   "execution_count": 3,
   "id": "3aed8adc",
   "metadata": {},
   "outputs": [
    {
     "name": "stdout",
     "output_type": "stream",
     "text": [
      "[1 2 3]\n"
     ]
    }
   ],
   "source": [
    "array = np.array([1,2,3])\n",
    "print(array)"
   ]
  },
  {
   "cell_type": "code",
   "execution_count": 4,
   "id": "70e7c370",
   "metadata": {},
   "outputs": [
    {
     "data": {
      "text/plain": [
       "(3,)"
      ]
     },
     "execution_count": 4,
     "metadata": {},
     "output_type": "execute_result"
    }
   ],
   "source": [
    "array.shape"
   ]
  },
  {
   "cell_type": "code",
   "execution_count": 5,
   "id": "119b19fa",
   "metadata": {},
   "outputs": [
    {
     "name": "stdout",
     "output_type": "stream",
     "text": [
      "[ 1  2  3  4  5  6  7  8  9 10 11 12 13 14 15]\n"
     ]
    }
   ],
   "source": [
    "array2=np.array([1,2,3,4,5,6,7,8,9,10,11,12,13,14,15])\n",
    "print(array2)"
   ]
  },
  {
   "cell_type": "code",
   "execution_count": 10,
   "id": "f13aa112",
   "metadata": {},
   "outputs": [],
   "source": [
    "reshapedArray= array2.reshape(3,5)"
   ]
  },
  {
   "cell_type": "code",
   "execution_count": 11,
   "id": "90552387",
   "metadata": {},
   "outputs": [
    {
     "name": "stdout",
     "output_type": "stream",
     "text": [
      "[[ 1  2  3  4  5]\n",
      " [ 6  7  8  9 10]\n",
      " [11 12 13 14 15]]\n"
     ]
    }
   ],
   "source": [
    "print(reshapedArray)"
   ]
  },
  {
   "cell_type": "code",
   "execution_count": 14,
   "id": "0b585413",
   "metadata": {},
   "outputs": [
    {
     "name": "stdout",
     "output_type": "stream",
     "text": [
      "shape (3, 5)\n"
     ]
    }
   ],
   "source": [
    "print(\"shape\",reshapedArray.shape)"
   ]
  },
  {
   "cell_type": "code",
   "execution_count": 15,
   "id": "f887cb24",
   "metadata": {},
   "outputs": [
    {
     "name": "stdout",
     "output_type": "stream",
     "text": [
      "[5 7 9]\n",
      "[ 4 10 18]\n",
      "[-3 -3 -3]\n"
     ]
    }
   ],
   "source": [
    "a = np.array([1,2,3])\n",
    "b= np.array([4,5,6])\n",
    "print(a+b)\n",
    "print(b*a)\n",
    "print(a-b)"
   ]
  },
  {
   "cell_type": "code",
   "execution_count": 16,
   "id": "78c0d793",
   "metadata": {},
   "outputs": [
    {
     "name": "stdout",
     "output_type": "stream",
     "text": [
      "[1 2 3]\n"
     ]
    }
   ],
   "source": [
    "newArray=a.copy()\n",
    "print(newArray)"
   ]
  },
  {
   "cell_type": "code",
   "execution_count": 17,
   "id": "a869997a",
   "metadata": {},
   "outputs": [
    {
     "name": "stdout",
     "output_type": "stream",
     "text": [
      "[1 2 3 4]\n"
     ]
    }
   ],
   "source": [
    "print(array2[0:4])"
   ]
  },
  {
   "cell_type": "code",
   "execution_count": 18,
   "id": "aca3b632",
   "metadata": {},
   "outputs": [
    {
     "name": "stdout",
     "output_type": "stream",
     "text": [
      "[15 14 13 12 11 10  9  8  7  6  5  4  3  2  1]\n"
     ]
    }
   ],
   "source": [
    "print(array2[::-1])"
   ]
  },
  {
   "cell_type": "code",
   "execution_count": 19,
   "id": "3a431ddc",
   "metadata": {},
   "outputs": [],
   "source": [
    "import pandas as pd"
   ]
  },
  {
   "cell_type": "code",
   "execution_count": 21,
   "id": "492e1318",
   "metadata": {},
   "outputs": [],
   "source": [
    "dictionary = {\"isim\":[\"fatih\",\"hasan\",\"neriman\",\"mustafa\",\"melike\"],\"yas\":[22,60,57,34,27]}"
   ]
  },
  {
   "cell_type": "code",
   "execution_count": 22,
   "id": "c0e1e593",
   "metadata": {},
   "outputs": [],
   "source": [
    "dataframe1 = pd.DataFrame(dictionary)"
   ]
  },
  {
   "cell_type": "code",
   "execution_count": 23,
   "id": "8195a381",
   "metadata": {},
   "outputs": [
    {
     "name": "stdout",
     "output_type": "stream",
     "text": [
      "      isim  yas\n",
      "0    fatih   22\n",
      "1    hasan   60\n",
      "2  neriman   57\n",
      "3  mustafa   34\n",
      "4   melike   27\n"
     ]
    }
   ],
   "source": [
    "print(dataframe1)"
   ]
  },
  {
   "cell_type": "code",
   "execution_count": 24,
   "id": "e56512c5",
   "metadata": {},
   "outputs": [
    {
     "name": "stdout",
     "output_type": "stream",
     "text": [
      "Index(['isim', 'yas'], dtype='object')\n"
     ]
    }
   ],
   "source": [
    "print(dataframe1.columns)"
   ]
  },
  {
   "cell_type": "code",
   "execution_count": 25,
   "id": "aba56eaf",
   "metadata": {},
   "outputs": [
    {
     "data": {
      "text/plain": [
       "Index(['ISIM', 'YAS'], dtype='object')"
      ]
     },
     "execution_count": 25,
     "metadata": {},
     "output_type": "execute_result"
    }
   ],
   "source": [
    "dataframe1.columns = [each.upper() for each in dataframe1.columns]\n",
    "dataframe1.columns"
   ]
  },
  {
   "cell_type": "code",
   "execution_count": null,
   "id": "8ede1bae",
   "metadata": {},
   "outputs": [],
   "source": [
    "import matplotlib.pyplot as plt\n"
   ]
  }
 ],
 "metadata": {
  "kernelspec": {
   "display_name": "Python 3 (ipykernel)",
   "language": "python",
   "name": "python3"
  },
  "language_info": {
   "codemirror_mode": {
    "name": "ipython",
    "version": 3
   },
   "file_extension": ".py",
   "mimetype": "text/x-python",
   "name": "python",
   "nbconvert_exporter": "python",
   "pygments_lexer": "ipython3",
   "version": "3.11.5"
  }
 },
 "nbformat": 4,
 "nbformat_minor": 5
}
